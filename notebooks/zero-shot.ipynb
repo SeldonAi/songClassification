{
 "cells": [
  {
   "cell_type": "markdown",
   "metadata": {},
   "source": [
    "ABANDONED\n",
    "=========\n",
    "\n",
    "Preliminary tests showed no interesting results\n",
    "-----------------------------------------------"
   ]
  },
  {
   "cell_type": "code",
   "execution_count": 1,
   "metadata": {},
   "outputs": [
    {
     "name": "stderr",
     "output_type": "stream",
     "text": [
      "/home/hlt/HLT_PROJECT/.env/lib/python3.11/site-packages/tqdm/auto.py:21: TqdmWarning: IProgress not found. Please update jupyter and ipywidgets. See https://ipywidgets.readthedocs.io/en/stable/user_install.html\n",
      "  from .autonotebook import tqdm as notebook_tqdm\n"
     ]
    }
   ],
   "source": [
    "import pandas as pd\n",
    "import mapply\n",
    "mapply.init(n_workers=5, progressbar=True)"
   ]
  },
  {
   "cell_type": "code",
   "execution_count": 2,
   "metadata": {},
   "outputs": [],
   "source": [
    "from transformers import pipeline\n",
    "\n",
    "# classifier = pipeline(\"zero-shot-classification\", \"facebook/bart-large-mnli\", device=\"cuda:0\")\n",
    "classifier = pipeline(\"zero-shot-classification\", \"cross-encoder/nli-distilroberta-base\", device=\"cuda:0\")\n",
    "# classifier = pipeline(\"zero-shot-classification\", \"MoritzLaurer/DeBERTa-v3-large-mnli-fever-anli-ling-wanli\", device=\"cuda:0\")"
   ]
  },
  {
   "cell_type": "code",
   "execution_count": 3,
   "metadata": {},
   "outputs": [
    {
     "data": {
      "text/plain": [
       "{'sequence': 'The genre of the song <Cotton Eye Joe> by <Rednex> is:',\n",
       " 'labels': ['rythm-blues', 'pop', 'country', 'rock', 'rap'],\n",
       " 'scores': [0.25857576727867126,\n",
       "  0.23048096895217896,\n",
       "  0.221792072057724,\n",
       "  0.18515253067016602,\n",
       "  0.10399868339300156]}"
      ]
     },
     "execution_count": 3,
     "metadata": {},
     "output_type": "execute_result"
    }
   ],
   "source": [
    "# Test with only the name and artist\n",
    "\n",
    "song = \"Cotton Eye Joe\"\n",
    "artist = \"Rednex\"\n",
    "\n",
    "text = f\"The genre of the song <{song}> by <{artist}> is:\"\n",
    "candidates = [\"pop\", \"rap\", \"rock\", \"rythm-blues\", \"country\"]\n",
    "\n",
    "classifier(text, candidates)"
   ]
  },
  {
   "cell_type": "code",
   "execution_count": 4,
   "metadata": {},
   "outputs": [],
   "source": [
    "clear = pd.read_feather('../data/lyrics_cleaned.feather')\n",
    "clear = clear[clear['tag'] != 'misc']\n",
    "\n",
    "clear['TAG'] = clear['tag']"
   ]
  },
  {
   "cell_type": "code",
   "execution_count": 11,
   "metadata": {},
   "outputs": [
    {
     "name": "stdout",
     "output_type": "stream",
     "text": [
      "In the Dark\n",
      "YG\n",
      "rap\n",
      "Predict the genre of the song from the lyrics;\n",
      "\n",
      "Mustard on the beat, ho\n",
      "\n",
      "\n",
      "I'm in the dark goin' brazy\n",
      "I'm in the dark throwin' twenty past eighty\n",
      "I'm in the dark, it's a movie, Scorsese\n",
      "I'm in the dar\n",
      "['Rap', 'Pop', 'Rock', 'Country', 'Rythm&Blues'] [0.24872754514217377, 0.24742549657821655, 0.19014227390289307, 0.1697729229927063, 0.14393173158168793]\n"
     ]
    }
   ],
   "source": [
    "song = clear.sample(n=1).iloc[0]\n",
    "\n",
    "lyrics = song['lyrics_clean']\n",
    "\n",
    "# prompt = f\"Artist: {song['artist']}\\nTitle: {song['title']}\\nLyrics: {lyrics}\\nThe genre of this song is: \"\n",
    "prompt = f\"Predict the genre of the song from the lyrics;\\n{lyrics} -> \"\n",
    "candidates = [\"Pop\", \"Rap\", \"Rock\", \"Rythm&Blues\", \"Country\"]\n",
    "\n",
    "pred = classifier(prompt, candidates)\n",
    "\n",
    "print(song['title'])\n",
    "print(song['artist'])\n",
    "print(song['TAG'])\n",
    "print(prompt[:200])\n",
    "print(pred['labels'], pred['scores'])"
   ]
  },
  {
   "cell_type": "code",
   "execution_count": 7,
   "metadata": {},
   "outputs": [
    {
     "name": "stderr",
     "output_type": "stream",
     "text": [
      "100%|██████████| 1/1 [00:00<00:00, 557.90it/s]"
     ]
    },
    {
     "name": "stderr",
     "output_type": "stream",
     "text": [
      "\n"
     ]
    },
    {
     "name": "stdout",
     "output_type": "stream",
     "text": [
      "              precision    recall  f1-score   support\n",
      "\n",
      "        rock       0.27      0.22      0.24        32\n",
      "          rb       0.67      0.06      0.11        32\n",
      "         pop       0.17      0.19      0.18        32\n",
      "         rap       0.23      0.09      0.13        32\n",
      "     country       0.22      0.56      0.31        32\n",
      "\n",
      "    accuracy                           0.23       160\n",
      "   macro avg       0.31      0.23      0.20       160\n",
      "weighted avg       0.31      0.23      0.20       160\n",
      "\n"
     ]
    },
    {
     "data": {
      "image/png": "[encoded data removed]",
      "text/plain": [
       "<Figure size 640x480 with 2 Axes>"
      ]
     },
     "metadata": {},
     "output_type": "display_data"
    }
   ],
   "source": [
    "N = 32\n",
    "sample = []\n",
    "\n",
    "for tag in clear['TAG'].unique():\n",
    "  s = clear[clear['TAG'] == tag].sample(n=N)\n",
    "  sample += [s]\n",
    "\n",
    "sample = pd.concat(sample)\n",
    "\n",
    "true = sample['TAG'].to_list()\n",
    "\n",
    "GENRE = {\n",
    "  'rock': \"Rock\",\n",
    "  'rb': \"Blues\",\n",
    "  'pop': \"Pop\",\n",
    "  'rap': \"Rap\",\n",
    "  'country': \"Country\",\n",
    "}\n",
    "GENRE_1 = {v:k for k, v in GENRE.items()}\n",
    "CANDIDATES = list(GENRE.values())\n",
    "CANDIDATES_1 = list(GENRE_1.values())\n",
    "\n",
    "def gen_prompt(song):\n",
    "  lyrics = song['lyrics_clean'].replace('\\n', ' ')\n",
    "  title = song['title']\n",
    "  artist = song['artist']\n",
    "  # return f\"Predict the genre of the song from the title and artist;\\n{title}\\n{artist} -> \"\n",
    "  return f\"{lyrics}\\nThe genre of this song is \"\n",
    "  # return f\"Predict the genre of the song from the lyrics, song title and artist;\\n{lyrics}\\n{title}\\n{artist} -> \"\n",
    "  \n",
    "prompts = sample.mapply(gen_prompt, axis=1).to_list()\n",
    "\n",
    "results = classifier(prompts, CANDIDATES)\n",
    "\n",
    "pred = [GENRE_1[r['labels'][0]] for r in results]\n",
    "\n",
    "from sklearn.metrics import confusion_matrix, ConfusionMatrixDisplay, classification_report\n",
    "from matplotlib import pyplot as plt\n",
    "\n",
    "disp = ConfusionMatrixDisplay(confusion_matrix(true, pred, labels=CANDIDATES_1), display_labels=CANDIDATES_1)\n",
    "\n",
    "disp.plot()\n",
    "\n",
    "print(classification_report(true, pred, labels=CANDIDATES_1))"
   ]
  }
 ],
 "metadata": {
  "kernelspec": {
   "display_name": ".env",
   "language": "python",
   "name": "python3"
  },
  "language_info": {
   "codemirror_mode": {
    "name": "ipython",
    "version": 3
   },
   "file_extension": ".py",
   "mimetype": "text/x-python",
   "name": "python",
   "nbconvert_exporter": "python",
   "pygments_lexer": "ipython3",
   "version": "3.11.9"
  }
 },
 "nbformat": 4,
 "nbformat_minor": 2
}
