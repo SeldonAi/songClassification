{
 "cells": [
  {
   "cell_type": "code",
   "execution_count": 1,
   "metadata": {},
   "outputs": [],
   "source": [
    "GUI = True\n",
    "from tqdm import tqdm as t\n",
    "\n",
    "tqdm = t if GUI else lambda x: x"
   ]
  },
  {
   "cell_type": "code",
   "execution_count": 2,
   "metadata": {},
   "outputs": [
    {
     "name": "stderr",
     "output_type": "stream",
     "text": [
      "/home/hlt/HLT_PROJECT/.env/lib/python3.11/site-packages/torchtext/vocab/__init__.py:4: UserWarning: \n",
      "/!\\ IMPORTANT WARNING ABOUT TORCHTEXT STATUS /!\\ \n",
      "Torchtext is deprecated and the last released version will be 0.18 (this one). You can silence this warning by calling the following at the beginnign of your scripts: `import torchtext; torchtext.disable_torchtext_deprecation_warning()`\n",
      "  warnings.warn(torchtext._TORCHTEXT_DEPRECATION_MSG)\n",
      "/home/hlt/HLT_PROJECT/.env/lib/python3.11/site-packages/torchtext/utils.py:4: UserWarning: \n",
      "/!\\ IMPORTANT WARNING ABOUT TORCHTEXT STATUS /!\\ \n",
      "Torchtext is deprecated and the last released version will be 0.18 (this one). You can silence this warning by calling the following at the beginnign of your scripts: `import torchtext; torchtext.disable_torchtext_deprecation_warning()`\n",
      "  warnings.warn(torchtext._TORCHTEXT_DEPRECATION_MSG)\n"
     ]
    }
   ],
   "source": [
    "# Embedding definition\n",
    "\n",
    "from torchtext.vocab import GloVe, FastText\n",
    "vectors = GloVe(name='6B', dim=300)\n",
    "# vectors = FastText(language='en')\n",
    "\n"
   ]
  },
  {
   "cell_type": "code",
   "execution_count": 3,
   "metadata": {},
   "outputs": [
    {
     "name": "stderr",
     "output_type": "stream",
     "text": [
      "/home/hlt/HLT_PROJECT/.env/lib/python3.11/site-packages/tqdm/auto.py:21: TqdmWarning: IProgress not found. Please update jupyter and ipywidgets. See https://ipywidgets.readthedocs.io/en/stable/user_install.html\n",
      "  from .autonotebook import tqdm as notebook_tqdm\n"
     ]
    }
   ],
   "source": [
    "# Data preprocessing\n",
    "# train-valid-test splits\n",
    "\n",
    "import pandas as pd\n",
    "import mapply\n",
    "mapply.init(n_workers=20, progressbar=GUI)\n",
    "\n",
    "clear = pd.read_feather('../data/lyrics_cleaned.feather')\n",
    "clear = clear[clear['tag'] != 'misc']\n",
    "\n",
    "clear['TAG'] = clear['tag']\n",
    "\n",
    "from sklearn.preprocessing import LabelEncoder, OneHotEncoder\n",
    "le = LabelEncoder()\n",
    "oh = OneHotEncoder()\n",
    "clear['genre'] = le.fit_transform(clear['TAG'])\n",
    "clear['genre'] = oh.fit_transform(clear['genre'].values.reshape(-1, 1)).toarray().tolist()\n",
    "\n",
    "ds = clear[['tokens', 'genre']]\n",
    "\n",
    "from sklearn.model_selection import train_test_split\n",
    "\n",
    "dev, test = train_test_split(ds, test_size=0.2, stratify=ds['genre'], random_state=0)\n",
    "train, val = train_test_split(dev, test_size=0.2, stratify=dev['genre'], random_state=0)"
   ]
  },
  {
   "cell_type": "code",
   "execution_count": 4,
   "metadata": {},
   "outputs": [],
   "source": [
    "# PD Dataframes -> Pytorch DataLoader\n",
    "\n",
    "import torch\n",
    "DEVICE = torch.device('cuda' if torch.cuda.is_available() else 'cpu')\n",
    "\n",
    "MAX_TOKENS = 150\n",
    "\n",
    "from torch.utils.data import DataLoader\n",
    "from torch.nn.utils.rnn import pad_sequence\n",
    "\n",
    "def vectorize(batch):\n",
    "  X, y = list(zip(*batch))\n",
    "  X_tensor = [vectors.get_vecs_by_tokens(x[:MAX_TOKENS].tolist(), lower_case_backup=True) for x in X]\n",
    "  X_tensor = pad_sequence(X_tensor, batch_first=True)\n",
    "  y_tensor = torch.tensor(y)\n",
    "  X_tensor = X_tensor.to(DEVICE)\n",
    "  y_tensor = y_tensor.to(DEVICE)\n",
    "  return X_tensor, y_tensor\n",
    "\n",
    "train_tensor = DataLoader((train.values), batch_size=32, shuffle=True, collate_fn=vectorize)\n",
    "val_tensor = DataLoader((val.values), batch_size=32, shuffle=True, collate_fn=vectorize)\n",
    "test_tensor = DataLoader((test.values), batch_size=32, shuffle=True, collate_fn=vectorize)"
   ]
  },
  {
   "cell_type": "code",
   "execution_count": 5,
   "metadata": {},
   "outputs": [],
   "source": [
    "# Model definition + helper train - eval functions\n",
    "\n",
    "from torch.nn import GRU, CrossEntropyLoss\n",
    "\n",
    "EMBED_DIM = vectors['unk'].shape[0]\n",
    "N_CLASSES = len(clear.iloc[0]['genre'])\n",
    "\n",
    "class RNN(torch.nn.Module):\n",
    "  def __init__(self, input_size, hidden_size, output_size, gru_layers=1, dropout=0.2):\n",
    "    super(RNN, self).__init__()\n",
    "    self.n_layers = gru_layers\n",
    "    self.hidden_size = hidden_size\n",
    "    self.gru = GRU(input_size, hidden_size, num_layers=self.n_layers, batch_first=True, dropout=dropout)\n",
    "    self.mp = torch.nn.MaxPool1d(MAX_TOKENS)\n",
    "    self.fc = torch.nn.Linear(hidden_size, output_size)\n",
    "    self.softmax = torch.nn.Softmax(dim=1)\n",
    "    \n",
    "  def forward(self, x):\n",
    "    h0 = torch.zeros(self.n_layers, x.size(0), self.hidden_size).to(DEVICE)\n",
    "    output, _ = self.gru(x, h0)\n",
    "    # output = output[:, -1, :]                           # last hidden state\n",
    "    output = self.mp(output.permute(0, 2, 1))[:, :, -1] # max pooling of all hidden states\n",
    "    fc = self.fc(output)\n",
    "    sm = self.softmax(fc)\n",
    "    return sm\n",
    "  \n",
    "model = RNN(EMBED_DIM, 1024, N_CLASSES, 10).to(DEVICE)\n",
    "criterion = CrossEntropyLoss()\n",
    "optimizer = torch.optim.Adam(model.parameters(), lr=1e-5)\n",
    "\n",
    "from sklearn.metrics import accuracy_score\n",
    "\n",
    "STEPS_FREQ = 50\n",
    "STEPS = 0\n",
    "\n",
    "def train_epoch(model, criterion, optimizer, train_tensor, writer = None):\n",
    "  global STEPS\n",
    "  model.train()\n",
    "  total_loss = 0\n",
    "  total_acc = 0\n",
    "  for X, y in train_tensor:\n",
    "    optimizer.zero_grad()\n",
    "    y_pred = model(X)\n",
    "    loss = criterion(y_pred, y)\n",
    "    loss.backward()\n",
    "    optimizer.step()\n",
    "    this_loss = loss.item()\n",
    "    this_acc = accuracy_score(y.argmax(1).cpu().numpy(), y_pred.argmax(1).cpu().numpy())\n",
    "    if writer:\n",
    "      if STEPS % STEPS_FREQ == 0:\n",
    "        writer.add_scalar(\"train/loss\", this_loss, STEPS)\n",
    "        writer.add_scalar(\"train/accuracy\", this_acc, STEPS)\n",
    "    total_loss += this_loss\n",
    "    total_acc += this_acc\n",
    "    STEPS += 1\n",
    "  return total_loss / len(train_tensor), total_acc / len(train_tensor)\n",
    "\n",
    "EVAL_STEPS = 0\n",
    "\n",
    "def eval_epoch(model, criterion, val_tensor, writer = None):\n",
    "  global EVAL_STEPS\n",
    "  model.eval()\n",
    "  total_loss = 0\n",
    "  total_acc = 0\n",
    "  with torch.no_grad():\n",
    "    for X, y in val_tensor:\n",
    "      y_pred = model(X)\n",
    "      loss = criterion(y_pred, y)\n",
    "      total_loss += loss.item()\n",
    "      total_acc += accuracy_score(y.argmax(1).cpu().numpy(), y_pred.argmax(1).cpu().numpy())\n",
    "  this_loss = total_loss / len(val_tensor)\n",
    "  this_acc = total_acc / len(val_tensor)\n",
    "  if writer:\n",
    "    writer.add_scalar(\"eval/loss\", this_loss, EVAL_STEPS)\n",
    "    writer.add_scalar(\"eval/accuracy\", this_acc, EVAL_STEPS)\n",
    "  EVAL_STEPS += 1\n",
    "  return this_loss, this_acc "
   ]
  },
  {
   "cell_type": "code",
   "execution_count": 6,
   "metadata": {},
   "outputs": [],
   "source": [
    "%load_ext tensorboard"
   ]
  },
  {
   "cell_type": "code",
   "execution_count": 7,
   "metadata": {},
   "outputs": [
    {
     "data": {
      "text/html": [
       "\n",
       "      <iframe id=\"tensorboard-frame-fbbac0237fce942f\" width=\"100%\" height=\"800\" frameborder=\"0\">\n",
       "      </iframe>\n",
       "      <script>\n",
       "        (function() {\n",
       "          const frame = document.getElementById(\"tensorboard-frame-fbbac0237fce942f\");\n",
       "          const url = new URL(\"/\", window.location);\n",
       "          const port = 6006;\n",
       "          if (port) {\n",
       "            url.port = port;\n",
       "          }\n",
       "          frame.src = url;\n",
       "        })();\n",
       "      </script>\n",
       "    "
      ],
      "text/plain": [
       "<IPython.core.display.HTML object>"
      ]
     },
     "metadata": {},
     "output_type": "display_data"
    },
    {
     "name": "stderr",
     "output_type": "stream",
     "text": [
      "[I 2024-06-03 11:00:36,161] A new study created in RDB with name: RNN_GRU\n",
      "100%|██████████| 29/29 [00:01<00:00, 16.10it/s]\n",
      "100%|██████████| 29/29 [00:01<00:00, 17.08it/s]\n",
      "100%|██████████| 29/29 [00:01<00:00, 17.22it/s]\n",
      "[I 2024-06-03 11:00:42,210] Trial 0 finished with values: [1.6091755969183785, 0.20089285714285715] and parameters: {'learning_rate': 2.1692729054286937e-05, 'layer_units': 276, 'n_layers': 5, 'dropout': 0.33642865392960414}. \n",
      "100%|██████████| 29/29 [00:01<00:00, 25.35it/s]\n",
      "100%|██████████| 29/29 [00:01<00:00, 24.99it/s]\n",
      "100%|██████████| 29/29 [00:01<00:00, 25.61it/s]\n",
      "[I 2024-06-03 11:00:46,191] Trial 1 finished with values: [1.6100056341716222, 0.20089285714285715] and parameters: {'learning_rate': 2.3836162499687994e-07, 'layer_units': 417, 'n_layers': 2, 'dropout': 0.045702708304124484}. \n"
     ]
    }
   ],
   "source": [
    "# Optuna objective definition + parameter search\n",
    "\n",
    "import optuna\n",
    "from datetime import datetime\n",
    "from torch.utils.tensorboard import SummaryWriter\n",
    "\n",
    "MODEL_NAME = 'RNN_GRU'\n",
    "MODEL_DIR = '../NAS/' + MODEL_NAME + '/' + str(datetime.now())\n",
    "\n",
    "%tensorboard --logdir '{MODEL_DIR}'/runs\n",
    "\n",
    "RUN = 0\n",
    "\n",
    "train_eval, _ = train_test_split(train, train_size=0.2, random_state=0, stratify=train['genre'])\n",
    "val_eval, _ = train_test_split(val, train_size=0.2, random_state=0, stratify=val['genre'])\n",
    "\n",
    "train_tensor = DataLoader((train_eval.values), batch_size=50, shuffle=True, collate_fn=vectorize)\n",
    "val_tensor = DataLoader((val_eval.values), batch_size=50, shuffle=True, collate_fn=vectorize)\n",
    "test_tensor = DataLoader((test.values), batch_size=50, shuffle=True, collate_fn=vectorize)\n",
    "\n",
    "def objective(trial: optuna.trial.BaseTrial):\n",
    "  global STEPS\n",
    "  global EVAL_STEPS\n",
    "  global RUN\n",
    "  STEPS = 0\n",
    "  EVAL_STEPS = 0\n",
    "\n",
    "  writer = SummaryWriter(\n",
    "    log_dir=f'{MODEL_DIR}/runs/{RUN:03d}'\n",
    "  )\n",
    "\n",
    "  EPOCHS = 5\n",
    "  LR = trial.suggest_float('learning_rate', 1e-6, 1e-1, log=True)\n",
    "  UNITS = trial.suggest_int('layer_units', 256, 1024, log=True)\n",
    "  LAYERS = trial.suggest_int('n_layers', 1, 7)\n",
    "  DROPOUT = trial.suggest_float('dropout', 0, 0.5)\n",
    "\n",
    "  model = RNN(EMBED_DIM, UNITS, N_CLASSES, LAYERS, DROPOUT).to(DEVICE)\n",
    "  criterion = CrossEntropyLoss()\n",
    "  optimizer = torch.optim.Adam(model.parameters(), lr=LR)\n",
    "  for epoch in range(EPOCHS):\n",
    "    train_loss, train_acc = train_epoch(model, criterion, optimizer, tqdm(train_tensor), writer=writer)\n",
    "    val_loss, val_acc = eval_epoch(model, criterion, val_tensor, writer=writer)\n",
    "  RUN += 1\n",
    "  return [val_loss, val_acc]\n",
    "\n",
    "study = optuna.create_study(\n",
    "  storage=\"sqlite:///db.sqlite3\",\n",
    "  study_name=MODEL_NAME,\n",
    "  directions=[\"minimize\", \"maximize\"],\n",
    "  load_if_exists=True\n",
    ")\n",
    "\n",
    "study.optimize(objective, n_trials=20)"
   ]
  },
  {
   "cell_type": "code",
   "execution_count": 40,
   "metadata": {},
   "outputs": [
    {
     "name": "stderr",
     "output_type": "stream",
     "text": [
      "100%|██████████| 18/18 [00:01<00:00, 17.17it/s]\n"
     ]
    },
    {
     "data": {
      "text/plain": [
       "<sklearn.metrics._plot.confusion_matrix.ConfusionMatrixDisplay at 0x7f58784ab390>"
      ]
     },
     "execution_count": 40,
     "metadata": {},
     "output_type": "execute_result"
    },
    {
     "data": {
      "image/png": "[encoded data removed]",
      "text/plain": [
       "<Figure size 640x480 with 2 Axes>"
      ]
     },
     "metadata": {},
     "output_type": "display_data"
    }
   ],
   "source": [
    "# Final retraining on best parameters found\n",
    "\n",
    "best_model = study.best_trials[0]\n",
    "\n",
    "dev_tensor = DataLoader((dev.values), batch_size=50, shuffle=True, collate_fn=vectorize)\n",
    "test_tensor = DataLoader((test.values), batch_size=50, shuffle=True, collate_fn=vectorize)\n",
    "\n",
    "params = best_model.params\n",
    "\n",
    "global STEPS\n",
    "global EVAL_STEPS\n",
    "global RUN\n",
    "STEPS = 0\n",
    "EVAL_STEPS = 0\n",
    "\n",
    "writer = SummaryWriter(\n",
    "  log_dir=f'{MODEL_DIR}/runs/final'\n",
    ")\n",
    "\n",
    "EPOCHS = 5\n",
    "LR = params['learning_rate']\n",
    "UNITS = params['layer_units']\n",
    "LAYERS = params['n_layers']\n",
    "DROPOUT = params['dropout']\n",
    "\n",
    "model = RNN(EMBED_DIM, UNITS, N_CLASSES, LAYERS, DROPOUT).to(DEVICE)\n",
    "criterion = CrossEntropyLoss()\n",
    "optimizer = torch.optim.Adam(model.parameters(), lr=LR)\n",
    "for epoch in range(EPOCHS):\n",
    "  train_loss, train_acc = train_epoch(model, criterion, optimizer, tqdm(dev_tensor), writer=writer)\n",
    "\n",
    "\n",
    "y_true_list = []\n",
    "y_pred_list = []\n",
    "\n",
    "import numpy as np\n",
    "\n",
    "with torch.no_grad():\n",
    "  for X, y in test_tensor:\n",
    "    y_pred = model(X).detach().cpu()\n",
    "    y_pred = np.argmax(y_pred, axis=1)\n",
    "    y_true = np.argmax(y.detach().cpu(), axis=1)\n",
    "    y_true_list += [y_true]\n",
    "    y_pred_list += [y_pred]\n",
    "\n",
    "y_true = np.concatenate(y_true_list)\n",
    "y_pred = np.concatenate(y_pred_list)\n",
    "\n",
    "from sklearn.metrics import confusion_matrix, ConfusionMatrixDisplay\n",
    "\n",
    "disp = ConfusionMatrixDisplay(confusion_matrix=confusion_matrix(y_true, y_pred),\n",
    "                              display_labels=le.classes_)\n",
    "disp.plot()\n"
   ]
  },
  {
   "cell_type": "code",
   "execution_count": 45,
   "metadata": {},
   "outputs": [
    {
     "name": "stdout",
     "output_type": "stream",
     "text": [
      "              precision    recall  f1-score   support\n",
      "\n",
      "     country       0.23      0.79      0.35        28\n",
      "         pop       0.00      0.00      0.00        28\n",
      "         rap       0.17      0.25      0.20        28\n",
      "          rb       0.00      0.00      0.00        28\n",
      "        rock       0.00      0.00      0.00        28\n",
      "\n",
      "    accuracy                           0.21       140\n",
      "   macro avg       0.08      0.21      0.11       140\n",
      "weighted avg       0.08      0.21      0.11       140\n",
      "\n"
     ]
    },
    {
     "name": "stderr",
     "output_type": "stream",
     "text": [
      "/home/hlt/HLT_PROJECT/.env/lib/python3.11/site-packages/sklearn/metrics/_classification.py:1517: UndefinedMetricWarning: Precision is ill-defined and being set to 0.0 in labels with no predicted samples. Use `zero_division` parameter to control this behavior.\n",
      "  _warn_prf(average, modifier, f\"{metric.capitalize()} is\", len(result))\n",
      "/home/hlt/HLT_PROJECT/.env/lib/python3.11/site-packages/sklearn/metrics/_classification.py:1517: UndefinedMetricWarning: Precision is ill-defined and being set to 0.0 in labels with no predicted samples. Use `zero_division` parameter to control this behavior.\n",
      "  _warn_prf(average, modifier, f\"{metric.capitalize()} is\", len(result))\n",
      "/home/hlt/HLT_PROJECT/.env/lib/python3.11/site-packages/sklearn/metrics/_classification.py:1517: UndefinedMetricWarning: Precision is ill-defined and being set to 0.0 in labels with no predicted samples. Use `zero_division` parameter to control this behavior.\n",
      "  _warn_prf(average, modifier, f\"{metric.capitalize()} is\", len(result))\n"
     ]
    }
   ],
   "source": [
    "from sklearn.metrics import classification_report\n",
    "\n",
    "print(classification_report(y_true, y_pred, target_names=le.classes_))"
   ]
  },
  {
   "cell_type": "code",
   "execution_count": 46,
   "metadata": {},
   "outputs": [],
   "source": [
    "torch.save(model, f'{MODEL_DIR}/final.pt')"
   ]
  }
 ],
 "metadata": {
  "kernelspec": {
   "display_name": "Python 3 (ipykernel)",
   "language": "python",
   "name": "python3"
  },
  "language_info": {
   "codemirror_mode": {
    "name": "ipython",
    "version": 3
   },
   "file_extension": ".py",
   "mimetype": "text/x-python",
   "name": "python",
   "nbconvert_exporter": "python",
   "pygments_lexer": "ipython3",
   "version": "3.11.9"
  }
 },
 "nbformat": 4,
 "nbformat_minor": 4
}
