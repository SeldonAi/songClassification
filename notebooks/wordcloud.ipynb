{
 "cells": [
  {
   "cell_type": "code",
   "execution_count": 1,
   "metadata": {},
   "outputs": [],
   "source": [
    "import pandas as pd\n",
    "import wordcloud\n",
    "\n",
    "WC = wordcloud.WordCloud(width=800, height=400, max_words=200, background_color='white')\n",
    "\n",
    "lyrics = pd.read_feather('./../data/lyrics_cleaned.feather')\n",
    "lyrics = lyrics[lyrics['tag'] != 'misc']"
   ]
  },
  {
   "cell_type": "code",
   "execution_count": 3,
   "metadata": {},
   "outputs": [
    {
     "name": "stderr",
     "output_type": "stream",
     "text": [
      "/home/hlt/HLT_PROJECT/.env/lib/python3.11/site-packages/tqdm/auto.py:21: TqdmWarning: IProgress not found. Please update jupyter and ipywidgets. See https://ipywidgets.readthedocs.io/en/stable/user_install.html\n",
      "  from .autonotebook import tqdm as notebook_tqdm\n"
     ]
    },
    {
     "name": "stderr",
     "output_type": "stream",
     "text": [
      "100%|██████████| 40/40 [00:00<00:00, 41.69it/s]\n"
     ]
    }
   ],
   "source": [
    "import re\n",
    "import mapply\n",
    "mapply.init(progressbar=True)\n",
    "\n",
    "rem_sq = re.compile(r'\\[.*?\\]')\n",
    "lyrics['clean'] = lyrics['lyrics_clean'].mapply(lambda x: re.sub(rem_sq, '', x))"
   ]
  },
  {
   "cell_type": "code",
   "execution_count": 4,
   "metadata": {},
   "outputs": [
    {
     "data": {
      "text/plain": [
       "array(['rap', 'rb', 'pop', 'rock', 'country'], dtype=object)"
      ]
     },
     "execution_count": 4,
     "metadata": {},
     "output_type": "execute_result"
    }
   ],
   "source": [
    "lyrics['tag'].unique()"
   ]
  },
  {
   "cell_type": "code",
   "execution_count": 5,
   "metadata": {},
   "outputs": [
    {
     "name": "stdout",
     "output_type": "stream",
     "text": [
      "Wordcloud for rap saved.\n",
      "Wordcloud for rb saved.\n",
      "Wordcloud for pop saved.\n",
      "Wordcloud for rock saved.\n",
      "Wordcloud for country saved.\n"
     ]
    }
   ],
   "source": [
    "import os\n",
    "os.makedirs('./../data/wordclouds', exist_ok=True)\n",
    "\n",
    "for tag in lyrics['tag'].unique():\n",
    "    WC.generate(' '.join(lyrics[lyrics['tag'] == tag].sample(4000)['clean']))\n",
    "    WC.to_file(f'./../data/wordclouds/{tag}.png')\n",
    "    print(f'Wordcloud for {tag} saved.')"
   ]
  }
 ],
 "metadata": {
  "kernelspec": {
   "display_name": ".env",
   "language": "python",
   "name": "python3"
  },
  "language_info": {
   "codemirror_mode": {
    "name": "ipython",
    "version": 3
   },
   "file_extension": ".py",
   "mimetype": "text/x-python",
   "name": "python",
   "nbconvert_exporter": "python",
   "pygments_lexer": "ipython3",
   "version": "3.11.9"
  }
 },
 "nbformat": 4,
 "nbformat_minor": 2
}
